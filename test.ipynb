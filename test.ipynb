{
 "cells": [
  {
   "cell_type": "markdown",
   "metadata": {},
   "source": [
    "## This is a test notebook"
   ]
  },
  {
   "cell_type": "code",
   "execution_count": 1,
   "metadata": {
    "collapsed": true,
    "pycharm": {
     "name": "#%%\n"
    }
   },
   "outputs": [],
   "source": [
    "import pandas as pd\n",
    "import numpy as np\n",
    "import plotly.express as px"
   ]
  },
  {
   "cell_type": "markdown",
   "metadata": {},
   "source": [
    "### Load Data"
   ]
  },
  {
   "cell_type": "code",
   "execution_count": 2,
   "metadata": {
    "pycharm": {
     "name": "#%%\n"
    }
   },
   "outputs": [],
   "source": [
    "df = pd.read_csv('output/merged_covid_df.csv', index_col=0)\n",
    "df = df.assign(cases_percap=df['cases']/df['POP_ESTIMATE_2018'])\n",
    "df = df.assign(log_pop = np.round(np.log10(df['POP_ESTIMATE_2018']), 2))"
   ]
  },
  {
   "cell_type": "markdown",
   "metadata": {},
   "source": [
    "Normally you see inverse correlation between income & poverty or unemployment"
   ]
  },
  {
   "cell_type": "code",
   "execution_count": 3,
   "metadata": {
    "pycharm": {
     "name": "#%%\n"
    }
   },
   "outputs": [
    {
     "ename": "ValueError",
     "evalue": "\nThe orca executable is required to export figures as static images,\nbut it could not be found on the system path.\n\nSearched for executable 'orca' on the following path:\n    /Users/jphwang/PyCharmProjects/misc_projects/us_covid_correlations/venv/bin\n    /usr/local/Cellar/pyenv/1.2.18/libexec\n    /Users/jphwang/google-cloud-sdk/bin\n    /Applications/SnowSQL.app/Contents/MacOS\n    /Users/jphwang/.pyenv/shims\n    /Users/username/.pyenv\n    /Users/jphwang/.poetry/bin\n    /Users/jphwang/anaconda3/condabin\n    /Library/Frameworks/Python.framework/Versions/3.7/bin\n    /usr/local/bin\n    /usr/bin\n    /bin\n    /usr/sbin\n    /sbin\n    /opt/X11/bin\n\nIf you haven't installed orca yet, you can do so using conda as follows:\n\n    $ conda install -c plotly plotly-orca\n\nAlternatively, see other installation methods in the orca project README at\nhttps://github.com/plotly/orca\n\nAfter installation is complete, no further configuration should be needed.\n\nIf you have installed orca, then for some reason plotly.py was unable to\nlocate it. In this case, set the `plotly.io.orca.config.executable`\nproperty to the full path of your orca executable. For example:\n\n    >>> plotly.io.orca.config.executable = '/path/to/orca'\n\nAfter updating this executable property, try the export operation again.\nIf it is successful then you may want to save this configuration so that it\nwill be applied automatically in future sessions. You can do this as follows:\n\n    >>> plotly.io.orca.config.save()\n\nIf you're still having trouble, feel free to ask for help on the forums at\nhttps://community.plot.ly/c/api/python\n",
     "output_type": "error",
     "traceback": [
      "\u001B[0;31m---------------------------------------------------------------------------\u001B[0m",
      "\u001B[0;31mValueError\u001B[0m                                Traceback (most recent call last)",
      "\u001B[0;32m<ipython-input-3-e8f2b21562ec>\u001B[0m in \u001B[0;36m<module>\u001B[0;34m\u001B[0m\n\u001B[1;32m     14\u001B[0m ))\n\u001B[1;32m     15\u001B[0m \u001B[0mfig\u001B[0m\u001B[0;34m.\u001B[0m\u001B[0mupdate_traces\u001B[0m\u001B[0;34m(\u001B[0m\u001B[0mmarker\u001B[0m\u001B[0;34m=\u001B[0m\u001B[0mdict\u001B[0m\u001B[0;34m(\u001B[0m\u001B[0mline\u001B[0m\u001B[0;34m=\u001B[0m\u001B[0mdict\u001B[0m\u001B[0;34m(\u001B[0m\u001B[0mwidth\u001B[0m\u001B[0;34m=\u001B[0m\u001B[0;36m1\u001B[0m\u001B[0;34m,\u001B[0m \u001B[0mcolor\u001B[0m\u001B[0;34m=\u001B[0m\u001B[0;34m'DarkSlateGrey'\u001B[0m\u001B[0;34m)\u001B[0m\u001B[0;34m)\u001B[0m\u001B[0;34m)\u001B[0m\u001B[0;34m\u001B[0m\u001B[0;34m\u001B[0m\u001B[0m\n\u001B[0;32m---> 16\u001B[0;31m \u001B[0mfig\u001B[0m\u001B[0;34m.\u001B[0m\u001B[0mshow\u001B[0m\u001B[0;34m(\u001B[0m\u001B[0;34m)\u001B[0m\u001B[0;34m\u001B[0m\u001B[0;34m\u001B[0m\u001B[0m\n\u001B[0m\u001B[1;32m     17\u001B[0m \u001B[0;34m\u001B[0m\u001B[0m\n",
      "\u001B[0;32m~/PyCharmProjects/misc_projects/us_covid_correlations/venv/lib/python3.7/site-packages/plotly/basedatatypes.py\u001B[0m in \u001B[0;36mshow\u001B[0;34m(self, *args, **kwargs)\u001B[0m\n\u001B[1;32m   2822\u001B[0m         \u001B[0;32mimport\u001B[0m \u001B[0mplotly\u001B[0m\u001B[0;34m.\u001B[0m\u001B[0mio\u001B[0m \u001B[0;32mas\u001B[0m \u001B[0mpio\u001B[0m\u001B[0;34m\u001B[0m\u001B[0;34m\u001B[0m\u001B[0m\n\u001B[1;32m   2823\u001B[0m \u001B[0;34m\u001B[0m\u001B[0m\n\u001B[0;32m-> 2824\u001B[0;31m         \u001B[0;32mreturn\u001B[0m \u001B[0mpio\u001B[0m\u001B[0;34m.\u001B[0m\u001B[0mshow\u001B[0m\u001B[0;34m(\u001B[0m\u001B[0mself\u001B[0m\u001B[0;34m,\u001B[0m \u001B[0;34m*\u001B[0m\u001B[0margs\u001B[0m\u001B[0;34m,\u001B[0m \u001B[0;34m**\u001B[0m\u001B[0mkwargs\u001B[0m\u001B[0;34m)\u001B[0m\u001B[0;34m\u001B[0m\u001B[0;34m\u001B[0m\u001B[0m\n\u001B[0m\u001B[1;32m   2825\u001B[0m \u001B[0;34m\u001B[0m\u001B[0m\n\u001B[1;32m   2826\u001B[0m     \u001B[0;32mdef\u001B[0m \u001B[0mto_json\u001B[0m\u001B[0;34m(\u001B[0m\u001B[0mself\u001B[0m\u001B[0;34m,\u001B[0m \u001B[0;34m*\u001B[0m\u001B[0margs\u001B[0m\u001B[0;34m,\u001B[0m \u001B[0;34m**\u001B[0m\u001B[0mkwargs\u001B[0m\u001B[0;34m)\u001B[0m\u001B[0;34m:\u001B[0m\u001B[0;34m\u001B[0m\u001B[0;34m\u001B[0m\u001B[0m\n",
      "\u001B[0;32m~/PyCharmProjects/misc_projects/us_covid_correlations/venv/lib/python3.7/site-packages/plotly/io/_renderers.py\u001B[0m in \u001B[0;36mshow\u001B[0;34m(fig, renderer, validate, **kwargs)\u001B[0m\n\u001B[1;32m    374\u001B[0m \u001B[0;34m\u001B[0m\u001B[0m\n\u001B[1;32m    375\u001B[0m     \u001B[0;31m# Mimetype renderers\u001B[0m\u001B[0;34m\u001B[0m\u001B[0;34m\u001B[0m\u001B[0;34m\u001B[0m\u001B[0m\n\u001B[0;32m--> 376\u001B[0;31m     \u001B[0mbundle\u001B[0m \u001B[0;34m=\u001B[0m \u001B[0mrenderers\u001B[0m\u001B[0;34m.\u001B[0m\u001B[0m_build_mime_bundle\u001B[0m\u001B[0;34m(\u001B[0m\u001B[0mfig_dict\u001B[0m\u001B[0;34m,\u001B[0m \u001B[0mrenderers_string\u001B[0m\u001B[0;34m=\u001B[0m\u001B[0mrenderer\u001B[0m\u001B[0;34m,\u001B[0m \u001B[0;34m**\u001B[0m\u001B[0mkwargs\u001B[0m\u001B[0;34m)\u001B[0m\u001B[0;34m\u001B[0m\u001B[0;34m\u001B[0m\u001B[0m\n\u001B[0m\u001B[1;32m    377\u001B[0m     \u001B[0;32mif\u001B[0m \u001B[0mbundle\u001B[0m\u001B[0;34m:\u001B[0m\u001B[0;34m\u001B[0m\u001B[0;34m\u001B[0m\u001B[0m\n\u001B[1;32m    378\u001B[0m         \u001B[0;32mif\u001B[0m \u001B[0;32mnot\u001B[0m \u001B[0mipython_display\u001B[0m\u001B[0;34m:\u001B[0m\u001B[0;34m\u001B[0m\u001B[0;34m\u001B[0m\u001B[0m\n",
      "\u001B[0;32m~/PyCharmProjects/misc_projects/us_covid_correlations/venv/lib/python3.7/site-packages/plotly/io/_renderers.py\u001B[0m in \u001B[0;36m_build_mime_bundle\u001B[0;34m(self, fig_dict, renderers_string, **kwargs)\u001B[0m\n\u001B[1;32m    283\u001B[0m         \u001B[0;32melse\u001B[0m\u001B[0;34m:\u001B[0m\u001B[0;34m\u001B[0m\u001B[0;34m\u001B[0m\u001B[0m\n\u001B[1;32m    284\u001B[0m             \u001B[0;31m# Activate any pending default renderers\u001B[0m\u001B[0;34m\u001B[0m\u001B[0;34m\u001B[0m\u001B[0;34m\u001B[0m\u001B[0m\n\u001B[0;32m--> 285\u001B[0;31m             \u001B[0mself\u001B[0m\u001B[0;34m.\u001B[0m\u001B[0m_activate_pending_renderers\u001B[0m\u001B[0;34m(\u001B[0m\u001B[0mcls\u001B[0m\u001B[0;34m=\u001B[0m\u001B[0mMimetypeRenderer\u001B[0m\u001B[0;34m)\u001B[0m\u001B[0;34m\u001B[0m\u001B[0;34m\u001B[0m\u001B[0m\n\u001B[0m\u001B[1;32m    286\u001B[0m             \u001B[0mrenderers_list\u001B[0m \u001B[0;34m=\u001B[0m \u001B[0mself\u001B[0m\u001B[0;34m.\u001B[0m\u001B[0m_default_renderers\u001B[0m\u001B[0;34m\u001B[0m\u001B[0;34m\u001B[0m\u001B[0m\n\u001B[1;32m    287\u001B[0m \u001B[0;34m\u001B[0m\u001B[0m\n",
      "\u001B[0;32m~/PyCharmProjects/misc_projects/us_covid_correlations/venv/lib/python3.7/site-packages/plotly/io/_renderers.py\u001B[0m in \u001B[0;36m_activate_pending_renderers\u001B[0;34m(self, cls)\u001B[0m\n\u001B[1;32m    190\u001B[0m             \u001B[0;31m# renderers take precedence\u001B[0m\u001B[0;34m\u001B[0m\u001B[0;34m\u001B[0m\u001B[0;34m\u001B[0m\u001B[0m\n\u001B[1;32m    191\u001B[0m             \u001B[0mrenderer\u001B[0m \u001B[0;34m=\u001B[0m \u001B[0mto_activate_with_cls\u001B[0m\u001B[0;34m.\u001B[0m\u001B[0mpop\u001B[0m\u001B[0;34m(\u001B[0m\u001B[0;36m0\u001B[0m\u001B[0;34m)\u001B[0m\u001B[0;34m\u001B[0m\u001B[0;34m\u001B[0m\u001B[0m\n\u001B[0;32m--> 192\u001B[0;31m             \u001B[0mrenderer\u001B[0m\u001B[0;34m.\u001B[0m\u001B[0mactivate\u001B[0m\u001B[0;34m(\u001B[0m\u001B[0;34m)\u001B[0m\u001B[0;34m\u001B[0m\u001B[0;34m\u001B[0m\u001B[0m\n\u001B[0m\u001B[1;32m    193\u001B[0m \u001B[0;34m\u001B[0m\u001B[0m\n\u001B[1;32m    194\u001B[0m         self._to_activate = [\n",
      "\u001B[0;32m~/PyCharmProjects/misc_projects/us_covid_correlations/venv/lib/python3.7/site-packages/plotly/io/_base_renderers.py\u001B[0m in \u001B[0;36mactivate\u001B[0;34m(self)\u001B[0m\n\u001B[1;32m    124\u001B[0m     \u001B[0;32mdef\u001B[0m \u001B[0mactivate\u001B[0m\u001B[0;34m(\u001B[0m\u001B[0mself\u001B[0m\u001B[0;34m)\u001B[0m\u001B[0;34m:\u001B[0m\u001B[0;34m\u001B[0m\u001B[0;34m\u001B[0m\u001B[0m\n\u001B[1;32m    125\u001B[0m         \u001B[0;31m# Start up orca server to reduce the delay on first render\u001B[0m\u001B[0;34m\u001B[0m\u001B[0;34m\u001B[0m\u001B[0;34m\u001B[0m\u001B[0m\n\u001B[0;32m--> 126\u001B[0;31m         \u001B[0mensure_server\u001B[0m\u001B[0;34m(\u001B[0m\u001B[0;34m)\u001B[0m\u001B[0;34m\u001B[0m\u001B[0;34m\u001B[0m\u001B[0m\n\u001B[0m\u001B[1;32m    127\u001B[0m \u001B[0;34m\u001B[0m\u001B[0m\n\u001B[1;32m    128\u001B[0m     \u001B[0;32mdef\u001B[0m \u001B[0mto_mimebundle\u001B[0m\u001B[0;34m(\u001B[0m\u001B[0mself\u001B[0m\u001B[0;34m,\u001B[0m \u001B[0mfig_dict\u001B[0m\u001B[0;34m)\u001B[0m\u001B[0;34m:\u001B[0m\u001B[0;34m\u001B[0m\u001B[0;34m\u001B[0m\u001B[0m\n",
      "\u001B[0;32m~/PyCharmProjects/misc_projects/us_covid_correlations/venv/lib/python3.7/site-packages/plotly/io/_orca.py\u001B[0m in \u001B[0;36mensure_server\u001B[0;34m()\u001B[0m\n\u001B[1;32m   1388\u001B[0m         \u001B[0;31m# Validate orca executable only if server_url is not provided\u001B[0m\u001B[0;34m\u001B[0m\u001B[0;34m\u001B[0m\u001B[0;34m\u001B[0m\u001B[0m\n\u001B[1;32m   1389\u001B[0m         \u001B[0;32mif\u001B[0m \u001B[0mstatus\u001B[0m\u001B[0;34m.\u001B[0m\u001B[0mstate\u001B[0m \u001B[0;34m==\u001B[0m \u001B[0;34m\"unvalidated\"\u001B[0m\u001B[0;34m:\u001B[0m\u001B[0;34m\u001B[0m\u001B[0;34m\u001B[0m\u001B[0m\n\u001B[0;32m-> 1390\u001B[0;31m             \u001B[0mvalidate_executable\u001B[0m\u001B[0;34m(\u001B[0m\u001B[0;34m)\u001B[0m\u001B[0;34m\u001B[0m\u001B[0;34m\u001B[0m\u001B[0m\n\u001B[0m\u001B[1;32m   1391\u001B[0m         \u001B[0;31m# Acquire lock to make sure that we keep the properties of orca_state\u001B[0m\u001B[0;34m\u001B[0m\u001B[0;34m\u001B[0m\u001B[0;34m\u001B[0m\u001B[0m\n\u001B[1;32m   1392\u001B[0m         \u001B[0;31m# consistent across threads\u001B[0m\u001B[0;34m\u001B[0m\u001B[0;34m\u001B[0m\u001B[0;34m\u001B[0m\u001B[0m\n",
      "\u001B[0;32m~/PyCharmProjects/misc_projects/us_covid_correlations/venv/lib/python3.7/site-packages/plotly/io/_orca.py\u001B[0m in \u001B[0;36mvalidate_executable\u001B[0;34m()\u001B[0m\n\u001B[1;32m   1085\u001B[0m                 \u001B[0mexecutable\u001B[0m\u001B[0;34m=\u001B[0m\u001B[0mconfig\u001B[0m\u001B[0;34m.\u001B[0m\u001B[0mexecutable\u001B[0m\u001B[0;34m,\u001B[0m\u001B[0;34m\u001B[0m\u001B[0;34m\u001B[0m\u001B[0m\n\u001B[1;32m   1086\u001B[0m                 \u001B[0mformatted_path\u001B[0m\u001B[0;34m=\u001B[0m\u001B[0mformatted_path\u001B[0m\u001B[0;34m,\u001B[0m\u001B[0;34m\u001B[0m\u001B[0;34m\u001B[0m\u001B[0m\n\u001B[0;32m-> 1087\u001B[0;31m                 \u001B[0minstructions\u001B[0m\u001B[0;34m=\u001B[0m\u001B[0minstall_location_instructions\u001B[0m\u001B[0;34m,\u001B[0m\u001B[0;34m\u001B[0m\u001B[0;34m\u001B[0m\u001B[0m\n\u001B[0m\u001B[1;32m   1088\u001B[0m             )\n\u001B[1;32m   1089\u001B[0m         )\n",
      "\u001B[0;31mValueError\u001B[0m: \nThe orca executable is required to export figures as static images,\nbut it could not be found on the system path.\n\nSearched for executable 'orca' on the following path:\n    /Users/jphwang/PyCharmProjects/misc_projects/us_covid_correlations/venv/bin\n    /usr/local/Cellar/pyenv/1.2.18/libexec\n    /Users/jphwang/google-cloud-sdk/bin\n    /Applications/SnowSQL.app/Contents/MacOS\n    /Users/jphwang/.pyenv/shims\n    /Users/username/.pyenv\n    /Users/jphwang/.poetry/bin\n    /Users/jphwang/anaconda3/condabin\n    /Library/Frameworks/Python.framework/Versions/3.7/bin\n    /usr/local/bin\n    /usr/bin\n    /bin\n    /usr/sbin\n    /sbin\n    /opt/X11/bin\n\nIf you haven't installed orca yet, you can do so using conda as follows:\n\n    $ conda install -c plotly plotly-orca\n\nAlternatively, see other installation methods in the orca project README at\nhttps://github.com/plotly/orca\n\nAfter installation is complete, no further configuration should be needed.\n\nIf you have installed orca, then for some reason plotly.py was unable to\nlocate it. In this case, set the `plotly.io.orca.config.executable`\nproperty to the full path of your orca executable. For example:\n\n    >>> plotly.io.orca.config.executable = '/path/to/orca'\n\nAfter updating this executable property, try the export operation again.\nIf it is successful then you may want to save this configuration so that it\nwill be applied automatically in future sessions. You can do this as follows:\n\n    >>> plotly.io.orca.config.save()\n\nIf you're still having trouble, feel free to ask for help on the forums at\nhttps://community.plot.ly/c/api/python\n"
     ]
    }
   ],
   "source": [
    "fig = px.scatter(df, x='Unemployment_rate_2018', y='Median_Household_Income_2018', title='Typical Household Income vs Unemployment Rate - by County',\n",
    "                 hover_name='county', hover_data=['state', 'POP_ESTIMATE_2018'],\n",
    "                 labels={\n",
    "                     'log_pop': 'Population (log 10)', 'Unemployment_rate_2018': 'Unemployment Rate (%)',\n",
    "                     'Median_Household_Income_2018': 'Typical (Median) Household Income (USD)', 'state': 'State',\n",
    "                     'POP_ESTIMATE_2018': 'Population',\n",
    "                 },\n",
    "                 color='log_pop', color_continuous_scale=px.colors.sequential.YlGnBu, template='plotly_white',\n",
    "                 height=600, width=900)\n",
    "fig.update_layout(coloraxis_colorbar=dict(\n",
    "    title=\"Population\",\n",
    "    tickvals=[4, 5, 6, 7],\n",
    "    ticktext=[\"10k\", \"100k\", \"1M\", \"10M\"],\n",
    "))\n",
    "fig.update_traces(marker=dict(line=dict(width=1, color='DarkSlateGrey')))\n",
    "fig.show()"
   ]
  },
  {
   "cell_type": "code",
   "execution_count": null,
   "metadata": {
    "pycharm": {
     "name": "#%%\n"
    }
   },
   "outputs": [],
   "source": [
    "fig = px.scatter(df, x='PCTPOVALL_2018', y='Median_Household_Income_2018', title='Typical Household Income vs Poverty Rate - by County',\n",
    "                 hover_name='county', hover_data=['state', 'POP_ESTIMATE_2018'],\n",
    "                 labels={\n",
    "                     'log_pop': 'Population (log 10)', 'PCTPOVALL_2018': 'Population Living in Poverty (%)',\n",
    "                     'Median_Household_Income_2018': 'Typical (Median) Household Income (USD)', 'state': 'State',\n",
    "                     'POP_ESTIMATE_2018': 'Population',\n",
    "                 },\n",
    "                 color='log_pop', color_continuous_scale=px.colors.sequential.YlGnBu, template='plotly_white',\n",
    "                 height=600, width=900)\n",
    "fig.update_layout(coloraxis_colorbar=dict(\n",
    "    title=\"Population\",\n",
    "    tickvals=[4, 5, 6, 7],\n",
    "    ticktext=[\"10k\", \"100k\", \"1M\", \"10M\"],\n",
    "))\n",
    "fig.update_traces(marker=dict(line=dict(width=1, color='DarkSlateGrey')))\n",
    "fig.show()"
   ]
  }
 ],
 "metadata": {
  "kernelspec": {
   "display_name": "Python 3",
   "language": "python",
   "name": "python3"
  },
  "language_info": {
   "codemirror_mode": {
    "name": "ipython",
    "version": 3
   },
   "file_extension": ".py",
   "mimetype": "text/x-python",
   "name": "python",
   "nbconvert_exporter": "python",
   "pygments_lexer": "ipython3",
   "version": "3.7.3"
  }
 },
 "nbformat": 4,
 "nbformat_minor": 1
}